{
 "cells": [
  {
   "cell_type": "markdown",
   "metadata": {
    "application/vnd.databricks.v1+cell": {
     "cellMetadata": {},
     "inputWidgets": {},
     "nuid": "5f83b3f4-16e0-4419-8dd9-4aa8611bcaf9",
     "showTitle": false,
     "title": ""
    }
   },
   "source": [
    "# Michelin Restaurant Dataset: Preparation"
   ]
  },
  {
   "cell_type": "markdown",
   "metadata": {
    "application/vnd.databricks.v1+cell": {
     "cellMetadata": {},
     "inputWidgets": {},
     "nuid": "4d6ccfcf-189a-4d7e-847b-a8073cad3cf3",
     "showTitle": false,
     "title": ""
    }
   },
   "source": [
    "The dataset comes from [Kaggle](https://www.kaggle.com/datasets/ngshiheng/michelin-guide-restaurants-2021)"
   ]
  },
  {
   "cell_type": "code",
   "execution_count": 0,
   "metadata": {
    "application/vnd.databricks.v1+cell": {
     "cellMetadata": {
      "byteLimit": 2048000,
      "rowLimit": 10000
     },
     "inputWidgets": {},
     "nuid": "b8971ed1-3894-4b8d-b8c9-b2b6e8bc8d11",
     "showTitle": false,
     "title": ""
    }
   },
   "outputs": [],
   "source": [
    "import pandas as pd\n",
    "import os\n",
    "from pyspark import SparkFiles\n",
    "from pyspark.sql.functions import *"
   ]
  },
  {
   "cell_type": "markdown",
   "metadata": {
    "application/vnd.databricks.v1+cell": {
     "cellMetadata": {},
     "inputWidgets": {},
     "nuid": "4cd14fdd-baeb-4fcf-86f4-a469eb4389ac",
     "showTitle": false,
     "title": ""
    }
   },
   "source": [
    "### Catalog, Schema Creation"
   ]
  },
  {
   "cell_type": "code",
   "execution_count": 0,
   "metadata": {
    "application/vnd.databricks.v1+cell": {
     "cellMetadata": {
      "byteLimit": 2048000,
      "rowLimit": 10000
     },
     "inputWidgets": {},
     "nuid": "0900a1ed-ed9d-4e43-82ca-e5680c982f19",
     "showTitle": false,
     "title": ""
    }
   },
   "outputs": [],
   "source": [
    "catalog_ = os.getenv('CATALOG_NAME')\n",
    "schema_ = os.getenv('SCHEMA_NAME')\n",
    "data_path_ = os.getenv('DATA_PATH')"
   ]
  },
  {
   "cell_type": "code",
   "execution_count": 0,
   "metadata": {
    "application/vnd.databricks.v1+cell": {
     "cellMetadata": {
      "byteLimit": 2048000,
      "rowLimit": 10000
     },
     "inputWidgets": {},
     "nuid": "9b1632b2-34eb-43a3-b332-5e129a2e80cf",
     "showTitle": false,
     "title": ""
    }
   },
   "outputs": [],
   "source": [
    "spark.sql(\"CREATE CATALOG IF NOT EXISTS \"+catalog_)\n",
    "spark.sql(\"CREATE SCHEMA IF NOT EXISTS \"+catalog_+\".\"+schema_)"
   ]
  },
  {
   "cell_type": "code",
   "execution_count": 0,
   "metadata": {
    "application/vnd.databricks.v1+cell": {
     "cellMetadata": {
      "byteLimit": 2048000,
      "rowLimit": 10000
     },
     "inputWidgets": {},
     "nuid": "c6fcbe52-e74b-4fad-bf7e-593e253c3425",
     "showTitle": false,
     "title": ""
    }
   },
   "outputs": [],
   "source": [
    "spark.sql(\"USE CATALOG \"+catalog_)\n",
    "spark.sql(\"USE SCHEMA \"+schema_)"
   ]
  },
  {
   "cell_type": "markdown",
   "metadata": {
    "application/vnd.databricks.v1+cell": {
     "cellMetadata": {},
     "inputWidgets": {},
     "nuid": "9b07fbe8-2f88-4633-8efa-c0c4c41969af",
     "showTitle": false,
     "title": ""
    }
   },
   "source": [
    "### Data Ingestion from Volume [Bronze]"
   ]
  },
  {
   "cell_type": "code",
   "execution_count": 0,
   "metadata": {
    "application/vnd.databricks.v1+cell": {
     "cellMetadata": {
      "byteLimit": 2048000,
      "rowLimit": 10000
     },
     "inputWidgets": {},
     "nuid": "43c056d7-38f0-421d-b9cd-f0eb594aa16d",
     "showTitle": false,
     "title": ""
    }
   },
   "outputs": [],
   "source": [
    "# Download the file to a volume\n",
    "import urllib\n",
    "\n",
    "volume_ = catalog_+'.'+schema_+'.init'\n",
    "spark.sql(\"CREATE VOLUME IF NOT EXISTS \"+volume_)\n",
    "urllib.request.urlretrieve(\n",
    "  data_path_,\n",
    "  \"/Volumes/\"+catalog_+\"/\"+schema_+\"/init/michelin_data.csv\")\n",
    "filepath_ = f\"dbfs:/Volumes/\"+catalog_+\"/\"+schema_+\"/init/michelin_data.csv\"\n"
   ]
  },
  {
   "cell_type": "code",
   "execution_count": 0,
   "metadata": {
    "application/vnd.databricks.v1+cell": {
     "cellMetadata": {
      "byteLimit": 2048000,
      "rowLimit": 10000
     },
     "inputWidgets": {},
     "nuid": "6537957e-6e8b-4f0d-ba2f-a9e9fd9a83c9",
     "showTitle": false,
     "title": ""
    }
   },
   "outputs": [],
   "source": [
    "bronze_ = (spark.\n",
    "           read.\n",
    "           option(\"header\", True).\n",
    "           option(\"delimiter\", \",\").\n",
    "           option(\"encoding\", \"utf-8\").\n",
    "           format(\"csv\").\n",
    "           load(filepath_).\n",
    "           createOrReplaceTempView(\"bronze_v\"))\n",
    "\n",
    "display(spark.sql(\"SELECT * FROM bronze_v LIMIT 10;\"))\n"
   ]
  },
  {
   "cell_type": "code",
   "execution_count": 0,
   "metadata": {
    "application/vnd.databricks.v1+cell": {
     "cellMetadata": {
      "byteLimit": 2048000,
      "implicitDf": true,
      "rowLimit": 10000
     },
     "inputWidgets": {},
     "nuid": "a01ae57d-8f48-4cff-905e-2e5d508b032b",
     "showTitle": false,
     "title": ""
    }
   },
   "outputs": [],
   "source": [
    "%sql\n",
    "DROP TABLE IF EXISTS bronze_data;\n",
    "CREATE TABLE bronze_data AS\n",
    "  select * from bronze_v;"
   ]
  },
  {
   "cell_type": "markdown",
   "metadata": {
    "application/vnd.databricks.v1+cell": {
     "cellMetadata": {},
     "inputWidgets": {},
     "nuid": "41636d99-320a-4297-beb6-a48ba022197f",
     "showTitle": false,
     "title": ""
    }
   },
   "source": [
    "### Data Exploration"
   ]
  },
  {
   "cell_type": "code",
   "execution_count": 0,
   "metadata": {
    "application/vnd.databricks.v1+cell": {
     "cellMetadata": {
      "byteLimit": 2048000,
      "rowLimit": 10000
     },
     "inputWidgets": {},
     "nuid": "afdeba98-94af-4d59-87b0-25ae31238801",
     "showTitle": false,
     "title": ""
    }
   },
   "outputs": [],
   "source": [
    "bronze_df = spark.sql(\"SELECT * FROM bronze_data\")\n",
    "display(dbutils.data.summarize(bronze_df))"
   ]
  },
  {
   "cell_type": "code",
   "execution_count": 0,
   "metadata": {
    "application/vnd.databricks.v1+cell": {
     "cellMetadata": {
      "byteLimit": 2048000,
      "implicitDf": true,
      "rowLimit": 10000
     },
     "inputWidgets": {},
     "nuid": "b7f4fa54-dbbd-4b7b-bcb8-b13f8523ac37",
     "showTitle": false,
     "title": ""
    }
   },
   "outputs": [],
   "source": [
    "%sql\n",
    "-- -- -- Price\n",
    "select Price, len(Price)::int price_score, count(*) from bronze_data group by 1,2 order by 1,2;"
   ]
  },
  {
   "cell_type": "code",
   "execution_count": 0,
   "metadata": {
    "application/vnd.databricks.v1+cell": {
     "cellMetadata": {
      "byteLimit": 2048000,
      "implicitDf": true,
      "rowLimit": 10000
     },
     "inputWidgets": {},
     "nuid": "6f9f2059-682c-4a66-91a9-6e8c6df26d92",
     "showTitle": false,
     "title": ""
    }
   },
   "outputs": [],
   "source": [
    "%sql\n",
    "select * from bronze_data where Price is null;"
   ]
  },
  {
   "cell_type": "code",
   "execution_count": 0,
   "metadata": {
    "application/vnd.databricks.v1+cell": {
     "cellMetadata": {
      "byteLimit": 2048000,
      "implicitDf": true,
      "rowLimit": 10000
     },
     "inputWidgets": {},
     "nuid": "72be4417-e439-4830-a0d2-3390dfe299f2",
     "showTitle": false,
     "title": ""
    }
   },
   "outputs": [],
   "source": [
    "%sql\n",
    "-- -- -- Award\n",
    "select Award, coalesce(substring(Award, 0,1)::int, 0::int) Stars_score, count(*) from bronze_data group by 1,2 order by 1,2;\n"
   ]
  },
  {
   "cell_type": "code",
   "execution_count": 0,
   "metadata": {
    "application/vnd.databricks.v1+cell": {
     "cellMetadata": {
      "byteLimit": 2048000,
      "implicitDf": true,
      "rowLimit": 10000
     },
     "inputWidgets": {},
     "nuid": "4d0e16a1-62ad-4ec1-8905-e9d75a603141",
     "showTitle": false,
     "title": ""
    }
   },
   "outputs": [],
   "source": [
    "%sql\n",
    "-- -- -- Quality Ratio\n",
    "select coalesce(substring(Award, 0,1)::float, -1::float) Award_score\n",
    "  , len(Price)::float Price_score\n",
    "  , coalesce(substring(Award, 0,1)::float, -1::float)/len(Price)::float Quality\n",
    "from bronze_data\n",
    "where Price is not null\n",
    "group by 1,2 order by 1,2;"
   ]
  },
  {
   "cell_type": "code",
   "execution_count": 0,
   "metadata": {
    "application/vnd.databricks.v1+cell": {
     "cellMetadata": {
      "byteLimit": 2048000,
      "implicitDf": true,
      "rowLimit": 10000
     },
     "inputWidgets": {},
     "nuid": "d80fefb5-3754-4666-8cd7-a86946058c37",
     "showTitle": false,
     "title": ""
    }
   },
   "outputs": [],
   "source": [
    "%sql\n",
    "-- -- -- Cuisine\n",
    "select cuisine, count(*) from bronze_data group by 1 order by 1;"
   ]
  },
  {
   "cell_type": "markdown",
   "metadata": {
    "application/vnd.databricks.v1+cell": {
     "cellMetadata": {},
     "inputWidgets": {},
     "nuid": "d72705c0-a569-4c31-b981-5306525ba4e0",
     "showTitle": false,
     "title": ""
    }
   },
   "source": [
    "### Data Cleaning [Silver]"
   ]
  },
  {
   "cell_type": "code",
   "execution_count": 0,
   "metadata": {
    "application/vnd.databricks.v1+cell": {
     "cellMetadata": {
      "byteLimit": 2048000,
      "implicitDf": true,
      "rowLimit": 10000
     },
     "inputWidgets": {},
     "nuid": "6608e236-8ae9-437d-8d76-fdbe943bc042",
     "showTitle": false,
     "title": ""
    }
   },
   "outputs": [],
   "source": [
    "%sql\n",
    "DROP TABLE IF EXISTS silver_data;\n",
    "CREATE TABLE silver_data AS\n",
    "  select \n",
    "    concat('res-id-', cast(100000+row_number() over(order by Longitude::float, Latitude::float, `Location`, `Name`) as string)) Res_ID,\n",
    "    `Name`, Address, `Location`, Longitude::float, Latitude::float, PhoneNumber, `Url` as MichelineUrl, WebsiteUrl,\n",
    "    Cuisine, Price, len(Price)::int Price_score,\n",
    "    Award, coalesce(substring(Award, 0,1)::int, 0::int) Stars_score,\n",
    "    coalesce(substring(Award, 0,1)::float, 0::float)/len(Price)::float Quality_ratio,\n",
    "    GreenStar::int,\n",
    "    FacilitiesAndServices, Description\n",
    "  from bronze_data\n",
    "  where \n",
    "    Price is not null -- Removing one Japanese restaurant\n",
    "  ;\n"
   ]
  }
 ],
 "metadata": {
  "application/vnd.databricks.v1+notebook": {
   "dashboards": [],
   "environmentMetadata": {
    "base_environment": "",
    "client": "1"
   },
   "language": "python",
   "notebookMetadata": {
    "mostRecentlyExecutedCommandWithImplicitDF": {
     "commandId": 1284968239639628,
     "dataframes": [
      "_sqldf"
     ]
    },
    "pythonIndentUnit": 2
   },
   "notebookName": "01_Michelin_DataPreparation",
   "widgets": {}
  }
 },
 "nbformat": 4,
 "nbformat_minor": 0
}
